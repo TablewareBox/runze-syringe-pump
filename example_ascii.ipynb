{
 "cells": [
  {
   "cell_type": "code",
   "execution_count": 1,
   "metadata": {},
   "outputs": [
    {
     "name": "stdout",
     "output_type": "stream",
     "text": [
      "Initializing pump...\n",
      "`\n",
      "`o\n",
      "None\n",
      "`i\n",
      "N2\n",
      "10000.0\n",
      "10000.0\n"
     ]
    }
   ],
   "source": [
    "from runze_syringe_pump import RunzeSyringePump, RunzeSyringePumpMode\n",
    "\n",
    "pump = RunzeSyringePump(port='/dev/tty.usbserial-1110')  # Adjust the port as needed\n",
    "print(\"Initializing pump...\")\n",
    "async with pump:\n",
    "    print(await pump.query_device_status())\n",
    "    await pump.initialize()\n",
    "    \n",
    "    print(await pump.query_valve_position())\n",
    "    await pump.set_valve_position(\"1\")\n",
    "    print(await pump.query_valve_position())\n",
    "    \n",
    "    await pump.set_step_mode(RunzeSyringePumpMode.AccuratePosVel)\n",
    "    await pump.set_speed(21)\n",
    "    await pump.pull_plunger(10000)\n",
    "    print(await pump.query_plunger_position())\n",
    "    print(await pump.report_position())"
   ]
  },
  {
   "cell_type": "code",
   "execution_count": null,
   "metadata": {},
   "outputs": [],
   "source": []
  }
 ],
 "metadata": {
  "kernelspec": {
   "display_name": "lab",
   "language": "python",
   "name": "python3"
  },
  "language_info": {
   "codemirror_mode": {
    "name": "ipython",
    "version": 3
   },
   "file_extension": ".py",
   "mimetype": "text/x-python",
   "name": "python",
   "nbconvert_exporter": "python",
   "pygments_lexer": "ipython3",
   "version": "3.12.3"
  }
 },
 "nbformat": 4,
 "nbformat_minor": 2
}
